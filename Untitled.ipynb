{
 "cells": [
  {
   "cell_type": "code",
   "execution_count": null,
   "metadata": {},
   "outputs": [],
   "source": [
    "from textblob import TextBlob\n",
    "import nltk\n",
    "nltk.download('punkt')\n",
    "import spacy\n",
    "nlp = spacy.load('en_core_web_sm')"
   ]
  },
  {
   "cell_type": "code",
   "execution_count": null,
   "metadata": {},
   "outputs": [],
   "source": [
    "text = 'Hello how are you'"
   ]
  },
  {
   "cell_type": "code",
   "execution_count": null,
   "metadata": {},
   "outputs": [],
   "source": [
    "new_test = TextBlob(text)"
   ]
  },
  {
   "cell_type": "code",
   "execution_count": null,
   "metadata": {},
   "outputs": [],
   "source": [
    "new_test.words"
   ]
  },
  {
   "cell_type": "code",
   "execution_count": 4,
   "metadata": {},
   "outputs": [],
   "source": [
    "import tkinter as tk \n",
    "from tkinter import *\n",
    "from tkinter import ttk\n",
    "#import nltk\n",
    "#nltk.download('punkt')\n",
    "from textblob import TextBlob\n",
    "import spacy\n",
    "nlp = spacy.load('en_core_web_sm')\n",
    "\n",
    "window = tk.Tk()\n",
    "window.title(\"Sentiment Analysis GUI\")\n",
    "window.geometry(\"700x400\")\n",
    "\n",
    "\n",
    "# TAB LAYOUT\n",
    "tab_control = ttk.Notebook(window)\n",
    "tab1 = ttk.Frame(tab_control)\n",
    "tab2 = ttk.Frame(tab_control)\n",
    "\n",
    "# Function for NLP TAB1\n",
    "def get_tokens():\n",
    "    raw_text = str(raw_entry.get())\n",
    "    new_text = TextBlob(raw_text)\n",
    "    final_text = new_text.words\n",
    "    result = \"\\nTokens: {}\".format(final_text)\n",
    "    # Inserting into Display\n",
    "    tab1_display.insert(tk.END, result)\n",
    "    \n",
    "def get_pos_tags():\n",
    "    raw_text = str(raw_entry.get())\n",
    "    new_text = TextBlob(raw_text)\n",
    "    final_text = new_text.tags\n",
    "    result = \"\\nPOS of Speech: {}\".format(final_text)\n",
    "    # Inserting into Display\n",
    "    tab1_display.insert(tk.END, result)\n",
    "\n",
    "    \n",
    "def get_sentiment():\n",
    "    raw_text = str(raw_entry.get())\n",
    "    new_text = TextBlob(raw_text)\n",
    "    final_text = new_text.sentiment\n",
    "    result = \"\\nSubjectivity: {}, Polarity:{}\".format(new_text.sentiment.subjectivity, new_text.sentiment.polarity)\n",
    "    # Inserting into Display\n",
    "    tab1_display.insert(tk.END, result)\n",
    "\n",
    "def get_entities():\n",
    "    raw_text = str(raw_entry.get())\n",
    "    docx = nlp(raw_text)\n",
    "    final_text = [(entity.text, entity.label_) for entity in docx.ents]\n",
    "    result = \"\\nEntities:{}\".format(final_text)\n",
    "    # Inserting into Display\n",
    "    tab1_display.insert(tk.END, result)\n",
    "\n",
    "def clear_entry_text():\n",
    "    entry1.delete(0, END)\n",
    "    \n",
    "def clear_display_result():\n",
    "    tab1_display.delete('1.0', END)\n",
    "\n",
    "\n",
    "# ADD TAB TO NOTEBOOK\n",
    "tab_control.add(tab1, text=\"Sentiment\")\n",
    "tab_control.add(tab2, text=\"File Processing\")\n",
    "\n",
    "tab_control.pack(expand=1, fill='both')\n",
    "\n",
    "# TAB FOR SENTIMENT\n",
    "label1 = Label(tab1, text='NLP made Simple', padx=5, pady=5)\n",
    "label1.grid(column=0, row=0)\n",
    "\n",
    "# Functions for NLP\n",
    "\n",
    "\n",
    "# MAIN NLP TAB1\n",
    "l1 = Label(tab1, text=\"Enter Text to Analysis\")\n",
    "l1.grid(row=1, column=0)\n",
    "\n",
    "raw_entry = StringVar()\n",
    "entry1 = Entry(tab1, textvariable=raw_entry, width=50)\n",
    "entry1.grid(row=1, column=1)\n",
    "# BUTTON1\n",
    "button1 = Button(tab1, text=\"Tokenize\", width=12, bg='#03A9F4', fg = '#FFF', command=get_tokens)\n",
    "button1.grid(row=4, column=0, padx=10, pady=10)\n",
    "\n",
    "button2 = Button(tab1, text=\"POS Tagger\", width=12, bg='#03A9F4', fg = '#FFF', command=get_pos_tags)\n",
    "button2.grid(row=4, column=1, padx=10, pady=10)\n",
    "\n",
    "button3 = Button(tab1, text=\"Sentiment\", width=12, bg='#03A9F4', fg = '#FFF', command=get_sentiment)\n",
    "button3.grid(row=4, column=2, padx=10, pady=10)\n",
    "\n",
    "button4 = Button(tab1, text=\"Entities\", width=12, bg='#03A9F4', fg = '#FFF', command=get_entities)\n",
    "button4.grid(row=5, column=0, padx=10, pady=10)\n",
    "\n",
    "button5 = Button(tab1, text=\"Reset\", width=12, bg='#03A9F4', fg = '#FFF', command=clear_entry_text)\n",
    "button5.grid(row=5, column=1, padx=10, pady=10)\n",
    "\n",
    "button6 = Button(tab1, text=\"Clear Result\", width=12, bg='#03A9F4', fg = '#FFF', command=clear_display_result)\n",
    "button6.grid(row=5, column=2, padx=10, pady=10)\n",
    "\n",
    "# Display Screen for Results\n",
    "tab1_display = Text(tab1)\n",
    "tab1_display.grid(row=7, column=0, columnspan=3, padx=5, pady=5)\n",
    "#Label\n",
    "#label1 = Label(window, text = \"NLP\" )\n",
    "#label1.grid(row=0, column=1)\n",
    "\n",
    "\n",
    "window.mainloop()\n",
    "\n"
   ]
  },
  {
   "cell_type": "code",
   "execution_count": 1,
   "metadata": {},
   "outputs": [],
   "source": [
    "from textblob import TextBlob"
   ]
  },
  {
   "cell_type": "code",
   "execution_count": null,
   "metadata": {},
   "outputs": [],
   "source": []
  },
  {
   "cell_type": "code",
   "execution_count": null,
   "metadata": {},
   "outputs": [],
   "source": []
  },
  {
   "cell_type": "code",
   "execution_count": null,
   "metadata": {},
   "outputs": [],
   "source": []
  }
 ],
 "metadata": {
  "kernelspec": {
   "display_name": "Python 3",
   "language": "python",
   "name": "python3"
  },
  "language_info": {
   "codemirror_mode": {
    "name": "ipython",
    "version": 3
   },
   "file_extension": ".py",
   "mimetype": "text/x-python",
   "name": "python",
   "nbconvert_exporter": "python",
   "pygments_lexer": "ipython3",
   "version": "3.7.6"
  }
 },
 "nbformat": 4,
 "nbformat_minor": 4
}
